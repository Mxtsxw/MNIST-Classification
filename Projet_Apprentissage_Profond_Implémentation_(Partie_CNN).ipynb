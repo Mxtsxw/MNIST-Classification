{
 "cells": [
  {
   "cell_type": "markdown",
   "metadata": {
    "id": "C2u-UqqtlJMu"
   },
   "source": [
    "# Projet - Apprentissage Profond - Implémentation (Partie CNN)"
   ]
  },
  {
   "cell_type": "code",
   "metadata": {
    "id": "z1ARxGhtOWkd",
    "ExecuteTime": {
     "end_time": "2024-10-16T17:44:46.382707Z",
     "start_time": "2024-10-16T17:44:40.165494Z"
    }
   },
   "source": [
    "import gzip\n",
    "import torch\n",
    "import matplotlib.pyplot as plt\n",
    "import torchvision\n",
    "import torchsummary\n",
    "import json\n",
    "import os\n"
   ],
   "outputs": [],
   "execution_count": 1
  },
  {
   "cell_type": "code",
   "metadata": {
    "id": "0ePT3fb6_jJC",
    "ExecuteTime": {
     "end_time": "2024-10-16T17:48:31.944222Z",
     "start_time": "2024-10-16T17:48:31.928110Z"
    }
   },
   "source": [
    "device = \"cuda\" if torch.cuda.is_available() else \"cpu\""
   ],
   "outputs": [],
   "execution_count": 10
  },
  {
   "cell_type": "code",
   "metadata": {
    "id": "OaXm8uV3bJe1",
    "ExecuteTime": {
     "end_time": "2024-10-16T17:48:33.161395Z",
     "start_time": "2024-10-16T17:48:32.149510Z"
    }
   },
   "source": [
    "((data_train,label_train),(data_test,label_test)) = torch.load(gzip.open(\"data/mnist.pkl.gz\"), weights_only=False)"
   ],
   "outputs": [],
   "execution_count": 11
  },
  {
   "cell_type": "markdown",
   "metadata": {
    "id": "fjGvRk-ClGuH"
   },
   "source": [
    "## Étape 1 : Remettre les image en 28x28"
   ]
  },
  {
   "cell_type": "code",
   "metadata": {
    "id": "2q6RMpTtbxWk",
    "ExecuteTime": {
     "end_time": "2024-10-16T17:48:34.714170Z",
     "start_time": "2024-10-16T17:48:34.697980Z"
    }
   },
   "source": [
    "data_train_reshaped = data_train.view(-1, 1, 28, 28)\n",
    "data_test_reshaped = data_test.view(-1, 1, 28, 28)"
   ],
   "outputs": [],
   "execution_count": 12
  },
  {
   "cell_type": "code",
   "execution_count": null,
   "metadata": {
    "colab": {
     "base_uri": "https://localhost:8080/",
     "height": 217
    },
    "id": "hjrE3FUjcaRU",
    "outputId": "1123556e-8336-4bb5-bd52-c256cc63bf8b"
   },
   "outputs": [
    {
     "data": {
      "image/png": "[encoded data removed]",
      "text/plain": [
       "<Figure size 1000x200 with 5 Axes>"
      ]
     },
     "metadata": {},
     "output_type": "display_data"
    }
   ],
   "source": [
    "# Plot the first 5 images\n",
    "plt.figure(figsize=(10, 2))\n",
    "for i in range(5):\n",
    "    plt.subplot(1, 5, i + 1)\n",
    "    plt.imshow(data_train_reshaped[i].squeeze(0), cmap='gray')\n",
    "    plt.title(f\"Label: {torch.argmax(label_train[i])}\")\n",
    "    plt.axis('off')\n",
    "\n",
    "plt.tight_layout()\n",
    "plt.show()"
   ]
  },
  {
   "cell_type": "markdown",
   "metadata": {
    "id": "ypNzvqKalS78"
   },
   "source": [
    "## Étape 2 : Importer le modèle (ResNet-18)"
   ]
  },
  {
   "cell_type": "code",
   "metadata": {
    "colab": {
     "base_uri": "https://localhost:8080/",
     "height": 141
    },
    "id": "fw5zORnslZCr",
    "outputId": "b068f23c-23f9-4afe-ffc3-029980e48389",
    "ExecuteTime": {
     "end_time": "2024-10-16T19:49:33.578110Z",
     "start_time": "2024-10-16T19:49:33.443169Z"
    }
   },
   "source": "resnet18 = torchvision.models.resnet18(weights=\"IMAGENET1K_V1\")",
   "outputs": [],
   "execution_count": 34
  },
  {
   "cell_type": "code",
   "metadata": {
    "id": "2ANbymMUmVMG",
    "ExecuteTime": {
     "end_time": "2024-10-16T19:49:33.764062Z",
     "start_time": "2024-10-16T19:49:33.757127Z"
    }
   },
   "source": [
    "resnet18.conv1 = torch.nn.Conv2d(1, 64, kernel_size=(7, 7), stride=(2, 2), padding=(3, 3), bias=False)\n",
    "resnet18.fc = torch.nn.Linear(resnet18.fc.in_features, 10)"
   ],
   "outputs": [],
   "execution_count": 35
  },
  {
   "cell_type": "code",
   "metadata": {
    "colab": {
     "base_uri": "https://localhost:8080/"
    },
    "id": "lQqgqOfelkNl",
    "outputId": "56b6511a-2e01-4785-e2bf-743262535293",
    "ExecuteTime": {
     "end_time": "2024-10-16T19:39:59.210836Z",
     "start_time": "2024-10-16T19:39:59.194381Z"
    }
   },
   "source": [
    "torchsummary.summary(resnet18, input_size = (1, 28, 28))"
   ],
   "outputs": [
    {
     "name": "stdout",
     "output_type": "stream",
     "text": [
      "=================================================================\n",
      "Layer (type:depth-idx)                   Param #\n",
      "=================================================================\n",
      "├─Conv2d: 1-1                            3,136\n",
      "├─BatchNorm2d: 1-2                       128\n",
      "├─ReLU: 1-3                              --\n",
      "├─MaxPool2d: 1-4                         --\n",
      "├─Sequential: 1-5                        --\n",
      "|    └─BasicBlock: 2-1                   --\n",
      "|    |    └─Conv2d: 3-1                  36,864\n",
      "|    |    └─BatchNorm2d: 3-2             128\n",
      "|    |    └─ReLU: 3-3                    --\n",
      "|    |    └─Conv2d: 3-4                  36,864\n",
      "|    |    └─BatchNorm2d: 3-5             128\n",
      "|    └─BasicBlock: 2-2                   --\n",
      "|    |    └─Conv2d: 3-6                  36,864\n",
      "|    |    └─BatchNorm2d: 3-7             128\n",
      "|    |    └─ReLU: 3-8                    --\n",
      "|    |    └─Conv2d: 3-9                  36,864\n",
      "|    |    └─BatchNorm2d: 3-10            128\n",
      "├─Sequential: 1-6                        --\n",
      "|    └─BasicBlock: 2-3                   --\n",
      "|    |    └─Conv2d: 3-11                 73,728\n",
      "|    |    └─BatchNorm2d: 3-12            256\n",
      "|    |    └─ReLU: 3-13                   --\n",
      "|    |    └─Conv2d: 3-14                 147,456\n",
      "|    |    └─BatchNorm2d: 3-15            256\n",
      "|    |    └─Sequential: 3-16             8,448\n",
      "|    └─BasicBlock: 2-4                   --\n",
      "|    |    └─Conv2d: 3-17                 147,456\n",
      "|    |    └─BatchNorm2d: 3-18            256\n",
      "|    |    └─ReLU: 3-19                   --\n",
      "|    |    └─Conv2d: 3-20                 147,456\n",
      "|    |    └─BatchNorm2d: 3-21            256\n",
      "├─Sequential: 1-7                        --\n",
      "|    └─BasicBlock: 2-5                   --\n",
      "|    |    └─Conv2d: 3-22                 294,912\n",
      "|    |    └─BatchNorm2d: 3-23            512\n",
      "|    |    └─ReLU: 3-24                   --\n",
      "|    |    └─Conv2d: 3-25                 589,824\n",
      "|    |    └─BatchNorm2d: 3-26            512\n",
      "|    |    └─Sequential: 3-27             33,280\n",
      "|    └─BasicBlock: 2-6                   --\n",
      "|    |    └─Conv2d: 3-28                 589,824\n",
      "|    |    └─BatchNorm2d: 3-29            512\n",
      "|    |    └─ReLU: 3-30                   --\n",
      "|    |    └─Conv2d: 3-31                 589,824\n",
      "|    |    └─BatchNorm2d: 3-32            512\n",
      "├─Sequential: 1-8                        --\n",
      "|    └─BasicBlock: 2-7                   --\n",
      "|    |    └─Conv2d: 3-33                 1,179,648\n",
      "|    |    └─BatchNorm2d: 3-34            1,024\n",
      "|    |    └─ReLU: 3-35                   --\n",
      "|    |    └─Conv2d: 3-36                 2,359,296\n",
      "|    |    └─BatchNorm2d: 3-37            1,024\n",
      "|    |    └─Sequential: 3-38             132,096\n",
      "|    └─BasicBlock: 2-8                   --\n",
      "|    |    └─Conv2d: 3-39                 2,359,296\n",
      "|    |    └─BatchNorm2d: 3-40            1,024\n",
      "|    |    └─ReLU: 3-41                   --\n",
      "|    |    └─Conv2d: 3-42                 2,359,296\n",
      "|    |    └─BatchNorm2d: 3-43            1,024\n",
      "├─AdaptiveAvgPool2d: 1-9                 --\n",
      "├─Linear: 1-10                           5,130\n",
      "=================================================================\n",
      "Total params: 11,175,370\n",
      "Trainable params: 11,175,370\n",
      "Non-trainable params: 0\n",
      "=================================================================\n"
     ]
    },
    {
     "data": {
      "text/plain": [
       "=================================================================\n",
       "Layer (type:depth-idx)                   Param #\n",
       "=================================================================\n",
       "├─Conv2d: 1-1                            3,136\n",
       "├─BatchNorm2d: 1-2                       128\n",
       "├─ReLU: 1-3                              --\n",
       "├─MaxPool2d: 1-4                         --\n",
       "├─Sequential: 1-5                        --\n",
       "|    └─BasicBlock: 2-1                   --\n",
       "|    |    └─Conv2d: 3-1                  36,864\n",
       "|    |    └─BatchNorm2d: 3-2             128\n",
       "|    |    └─ReLU: 3-3                    --\n",
       "|    |    └─Conv2d: 3-4                  36,864\n",
       "|    |    └─BatchNorm2d: 3-5             128\n",
       "|    └─BasicBlock: 2-2                   --\n",
       "|    |    └─Conv2d: 3-6                  36,864\n",
       "|    |    └─BatchNorm2d: 3-7             128\n",
       "|    |    └─ReLU: 3-8                    --\n",
       "|    |    └─Conv2d: 3-9                  36,864\n",
       "|    |    └─BatchNorm2d: 3-10            128\n",
       "├─Sequential: 1-6                        --\n",
       "|    └─BasicBlock: 2-3                   --\n",
       "|    |    └─Conv2d: 3-11                 73,728\n",
       "|    |    └─BatchNorm2d: 3-12            256\n",
       "|    |    └─ReLU: 3-13                   --\n",
       "|    |    └─Conv2d: 3-14                 147,456\n",
       "|    |    └─BatchNorm2d: 3-15            256\n",
       "|    |    └─Sequential: 3-16             8,448\n",
       "|    └─BasicBlock: 2-4                   --\n",
       "|    |    └─Conv2d: 3-17                 147,456\n",
       "|    |    └─BatchNorm2d: 3-18            256\n",
       "|    |    └─ReLU: 3-19                   --\n",
       "|    |    └─Conv2d: 3-20                 147,456\n",
       "|    |    └─BatchNorm2d: 3-21            256\n",
       "├─Sequential: 1-7                        --\n",
       "|    └─BasicBlock: 2-5                   --\n",
       "|    |    └─Conv2d: 3-22                 294,912\n",
       "|    |    └─BatchNorm2d: 3-23            512\n",
       "|    |    └─ReLU: 3-24                   --\n",
       "|    |    └─Conv2d: 3-25                 589,824\n",
       "|    |    └─BatchNorm2d: 3-26            512\n",
       "|    |    └─Sequential: 3-27             33,280\n",
       "|    └─BasicBlock: 2-6                   --\n",
       "|    |    └─Conv2d: 3-28                 589,824\n",
       "|    |    └─BatchNorm2d: 3-29            512\n",
       "|    |    └─ReLU: 3-30                   --\n",
       "|    |    └─Conv2d: 3-31                 589,824\n",
       "|    |    └─BatchNorm2d: 3-32            512\n",
       "├─Sequential: 1-8                        --\n",
       "|    └─BasicBlock: 2-7                   --\n",
       "|    |    └─Conv2d: 3-33                 1,179,648\n",
       "|    |    └─BatchNorm2d: 3-34            1,024\n",
       "|    |    └─ReLU: 3-35                   --\n",
       "|    |    └─Conv2d: 3-36                 2,359,296\n",
       "|    |    └─BatchNorm2d: 3-37            1,024\n",
       "|    |    └─Sequential: 3-38             132,096\n",
       "|    └─BasicBlock: 2-8                   --\n",
       "|    |    └─Conv2d: 3-39                 2,359,296\n",
       "|    |    └─BatchNorm2d: 3-40            1,024\n",
       "|    |    └─ReLU: 3-41                   --\n",
       "|    |    └─Conv2d: 3-42                 2,359,296\n",
       "|    |    └─BatchNorm2d: 3-43            1,024\n",
       "├─AdaptiveAvgPool2d: 1-9                 --\n",
       "├─Linear: 1-10                           5,130\n",
       "=================================================================\n",
       "Total params: 11,175,370\n",
       "Trainable params: 11,175,370\n",
       "Non-trainable params: 0\n",
       "================================================================="
      ]
     },
     "execution_count": 22,
     "metadata": {},
     "output_type": "execute_result"
    }
   ],
   "execution_count": 22
  },
  {
   "cell_type": "markdown",
   "metadata": {
    "id": "XsEvmwxXs95c"
   },
   "source": [
    "## Entraînement du modèle"
   ]
  },
  {
   "cell_type": "code",
   "metadata": {
    "id": "ojCH7X0gtGqe",
    "ExecuteTime": {
     "end_time": "2024-10-16T19:40:02.150998Z",
     "start_time": "2024-10-16T19:40:02.132360Z"
    }
   },
   "source": [
    "training_dataset = torch.utils.data.TensorDataset(data_train_reshaped, label_train)\n",
    "test_dataset = torch.utils.data.TensorDataset(data_test_reshaped, label_test)"
   ],
   "outputs": [],
   "execution_count": 23
  },
  {
   "cell_type": "code",
   "metadata": {
    "id": "w7Fbolvcs9PI",
    "ExecuteTime": {
     "end_time": "2024-10-16T19:40:02.649206Z",
     "start_time": "2024-10-16T19:40:02.641888Z"
    }
   },
   "source": [
    "# Diviser le jeu de données en sous-ensembles\n",
    "generator = torch.Generator().manual_seed(42) # Permet de reproduire le même découpement\n",
    "train_subset, val_subset = torch.utils.data.random_split(training_dataset, [0.8, 0.2], generator=generator)"
   ],
   "outputs": [],
   "execution_count": 24
  },
  {
   "cell_type": "code",
   "metadata": {
    "id": "1rAh-xvOv0be",
    "ExecuteTime": {
     "end_time": "2024-10-16T19:40:03.117344Z",
     "start_time": "2024-10-16T19:40:03.100968Z"
    }
   },
   "source": [
    "batch_size = 8\n",
    "train_loader = torch.utils.data.DataLoader(train_subset, batch_size=batch_size, shuffle=True)\n",
    "val_loader = torch.utils.data.DataLoader(val_subset, batch_size=batch_size, shuffle=True)\n",
    "test_loader = torch.utils.data.DataLoader(test_dataset, batch_size=1, shuffle=False)"
   ],
   "outputs": [],
   "execution_count": 25
  },
  {
   "cell_type": "code",
   "metadata": {
    "colab": {
     "base_uri": "https://localhost:8080/"
    },
    "id": "epGtQ-XSxs6S",
    "outputId": "7908fc39-ca49-4960-d79c-81a81d4e9c09",
    "ExecuteTime": {
     "end_time": "2024-10-16T19:40:03.595670Z",
     "start_time": "2024-10-16T19:40:03.575922Z"
    }
   },
   "source": [
    "learning_rate = 0.01\n",
    "loss_func = torch.nn.CrossEntropyLoss()\n",
    "optim = torch.optim.Adam(params=resnet18.parameters(), lr=learning_rate)"
   ],
   "outputs": [],
   "execution_count": 26
  },
  {
   "cell_type": "markdown",
   "metadata": {
    "id": "rVFIO7g4xEXm"
   },
   "source": [
    "### Pré-évaluation du modèle"
   ]
  },
  {
   "cell_type": "code",
   "metadata": {
    "colab": {
     "base_uri": "https://localhost:8080/"
    },
    "id": "d4fWYkIStkX-",
    "outputId": "15052e13-7fab-4e2c-ed7b-3ad055cae6ed",
    "ExecuteTime": {
     "end_time": "2024-10-16T19:50:23.915052Z",
     "start_time": "2024-10-16T19:49:37.744565Z"
    }
   },
   "source": [
    "resnet18.eval()  \n",
    "acc = 0\n",
    "total = 0  \n",
    "\n",
    "with torch.inference_mode():  \n",
    "    for data, target in val_loader:\n",
    "        outputs = resnet18(data)  \n",
    "        \n",
    "        pred = torch.argmax(outputs, dim=1)  \n",
    "        true = torch.argmax(target, dim=1)   \n",
    "        \n",
    "        # Sum the number of correct predictions\n",
    "        acc += (pred == true).sum().item() \n",
    "        \n",
    "        # Keep track of the total number of samples\n",
    "        total += target.size(0)\n",
    "\n",
    "# Calculate the accuracy\n",
    "accuracy = acc / total\n",
    "print(f\"Validation Accuracy: {accuracy:.4f}\")"
   ],
   "outputs": [
    {
     "name": "stdout",
     "output_type": "stream",
     "text": [
      "Validation Accuracy: 0.0983\n"
     ]
    }
   ],
   "execution_count": 36
  },
  {
   "cell_type": "markdown",
   "metadata": {
    "id": "6WxYU6fL3mZ2"
   },
   "source": [
    "### Entraînement"
   ]
  },
  {
   "cell_type": "code",
   "execution_count": null,
   "metadata": {
    "id": "_rcMUzZsV_P8"
   },
   "outputs": [],
   "source": [
    "for name, param in resnet18.named_parameters():\n",
    "  if not (name.startswith('layer4') or name.startswith('fc')):\n",
    "        param.requires_grad = False"
   ]
  },
  {
   "cell_type": "code",
   "execution_count": null,
   "metadata": {
    "colab": {
     "background_save": true,
     "base_uri": "https://localhost:8080/"
    },
    "id": "WzYetVU53pEL",
    "outputId": "634f74ac-58f0-42df-9673-db1817c1e2db"
   },
   "outputs": [
    {
     "name": "stdout",
     "output_type": "stream",
     "text": [
      "Époque 1/10, Validation loss: 0.4679, Validation accuracy: 0.8488\n",
      "Époque 2/10, Validation loss: 0.4358, Validation accuracy: 0.8572\n",
      "Époque 3/10, Validation loss: 0.3743, Validation accuracy: 0.8794\n",
      "Époque 4/10, Validation loss: 0.3304, Validation accuracy: 0.8940\n",
      "Époque 5/10, Validation loss: 0.3206, Validation accuracy: 0.8982\n",
      "Époque 6/10, Validation loss: 0.2947, Validation accuracy: 0.9102\n",
      "Époque 7/10, Validation loss: 0.2828, Validation accuracy: 0.9098\n",
      "Époque 8/10, Validation loss: 0.2776, Validation accuracy: 0.9116\n",
      "Époque 9/10, Validation loss: 0.2904, Validation accuracy: 0.9092\n",
      "Époque 10/10, Validation loss: 0.2783, Validation accuracy: 0.9128\n",
      "Précision finale: 0.9128\n"
     ]
    }
   ],
   "source": [
    "# Définir les hyperparamètres\n",
    "nb_epochs = 10\n",
    "\n",
    "# Chemin du fichier pour sauvegarder les métriques\n",
    "file_path = \"data/CNN_train_1.json\"\n",
    "\n",
    "# Initialiser des listes pour suivre les pertes et les précisions pour analyse\n",
    "training_losses = []\n",
    "validation_losses = []\n",
    "validation_accuracies = []\n",
    "\n",
    "resnet18.to(device)\n",
    "\n",
    "# Boucle d'entraînement\n",
    "for epoch in range(nb_epochs):\n",
    "    resnet18.train()\n",
    "    epoch_training_loss = 0.0\n",
    "\n",
    "    # Phase d'entraînement\n",
    "    for x, t in train_loader:\n",
    "        x, t = x.to(device), t.to(device)\n",
    "\n",
    "        # forward pass\n",
    "        y = resnet18(x)\n",
    "\n",
    "        # Calculer la perte\n",
    "        _loss = loss_func(y, t)\n",
    "        epoch_training_loss += _loss.item()\n",
    "\n",
    "        # Rétropropagation et optimisation\n",
    "        optim.zero_grad()  # Réinitialiser les gradients\n",
    "        _loss.backward()  # Calculer les gradients\n",
    "        optim.step()  # Mettre à jour les poids du modèle\n",
    "\n",
    "    # Perte moyenne d'entraînement pour l'époque\n",
    "    avg_training_loss = epoch_training_loss / len(train_loader)\n",
    "    training_losses.append(avg_training_loss)\n",
    "\n",
    "    # Phase de validation\n",
    "    resnet18.eval()  # Mettre le modèle en mode évaluation\n",
    "\n",
    "    epoch_val_loss = 0.0\n",
    "    correct_predictions = 0\n",
    "    total_predictions = 0\n",
    "\n",
    "    # Désactiver le calcul des gradients pendant la validation\n",
    "    with torch.inference_mode():\n",
    "        for data, target in val_loader:  # Utiliser validation_loader pour la validation\n",
    "            data, target = data.to(device), target.to(device)  # Déplacer les données vers l'appareil\n",
    "\n",
    "            # Passer en avant (forward pass)\n",
    "            outputs = resnet18(data)\n",
    "\n",
    "            # Calculer la perte\n",
    "            _loss = loss_func(outputs, target)\n",
    "            epoch_val_loss += _loss.item()\n",
    "\n",
    "            # Calculer la précision\n",
    "            predicted_labels = torch.argmax(outputs, dim=1)\n",
    "            true_labels = torch.argmax(target, dim=1)\n",
    "            correct_predictions += (predicted_labels == true_labels).sum().item()\n",
    "            total_predictions += target.size(0)\n",
    "\n",
    "    # Perte moyenne de validation et précision pour l'époque\n",
    "    avg_val_loss = epoch_val_loss / len(val_loader)\n",
    "    validation_losses.append(avg_val_loss)\n",
    "\n",
    "    accuracy = correct_predictions / total_predictions\n",
    "    validation_accuracies.append(accuracy)\n",
    "\n",
    "    # Afficher les métriques pour l'époque en cours\n",
    "    print(f\"Époque {epoch + 1}/{nb_epochs}, Validation loss: {avg_val_loss:.4f}, Validation accuracy: {accuracy:.4f}\")\n",
    "\n",
    "# Précision finale sur le jeu de test\n",
    "final_correct_predictions = 0\n",
    "final_total_predictions = 0\n",
    "\n",
    "resnet18.eval()  # Mettre le modèle en mode évaluation\n",
    "with torch.inference_mode():\n",
    "    for data, target in val_loader:  # Utiliser validation_loader ou test_loader pour le test final\n",
    "        data, target = data.to(device), target.to(device)\n",
    "        outputs = resnet18(data)\n",
    "        predicted_labels = torch.argmax(outputs, dim=1)\n",
    "        true_labels = torch.argmax(target, dim=1)\n",
    "        final_correct_predictions += (predicted_labels == true_labels).sum().item()\n",
    "        final_total_predictions += target.size(0)\n",
    "\n",
    "# Calcul de la précision finale sur le jeu de test\n",
    "final_test_accuracy = final_correct_predictions / final_total_predictions\n",
    "print(f\"Précision finale: {final_test_accuracy:.4f}\")\n",
    "\n",
    "# Sauvegarder les métriques de performance dans un fichier JSON\n",
    "result = {\n",
    "    'hyperparameters': {\n",
    "        'nb_epochs': nb_epochs,\n",
    "        'learning_rate': learning_rate,\n",
    "        'loss_func': str(loss_func.__class__.__name__),\n",
    "        'optimizer': str(optim.__class__.__name__)\n",
    "    },\n",
    "    'training_losses': training_losses,\n",
    "    'validation_losses': validation_losses,\n",
    "    'validation_accuracies': validation_accuracies,\n",
    "    'final_validation_accuracy': final_test_accuracy\n",
    "}\n",
    "\n",
    "# # Ajouter les résultats dans le fichier JSON\n",
    "# with open(file_path, \"a\") as json_file:\n",
    "#     # Démarrer le tableau JSON si c'est la première écriture\n",
    "#     if first_write:\n",
    "#         json_file.write(\"[\\n\")\n",
    "\n",
    "#     # Écrire les résultats\n",
    "#     json.dump(result, json_file)\n",
    "\n",
    "#     # Ajouter une virgule et un saut de ligne, ou fermer le tableau si c'est la première écriture\n",
    "#     if first_write:\n",
    "#         json_file.write(\"\\n]\")\n",
    "#     else:\n",
    "#         json_file.write(\",\\n\")  # Séparer les entrées avec une virgule et un saut de ligne\n",
    "\n",
    "# print(\"Résultats sauvegardés dans le fichier JSON.\")\n"
   ]
  },
  {
   "metadata": {},
   "cell_type": "markdown",
   "source": "# Évaluation finale"
  },
  {
   "metadata": {
    "ExecuteTime": {
     "end_time": "2024-10-16T22:37:29.273265Z",
     "start_time": "2024-10-16T22:36:51.502919Z"
    }
   },
   "cell_type": "code",
   "source": [
    "# Importer le modèle\n",
    "\n",
    "resnet18 = torchvision.models.resnet18()\n",
    "resnet18.conv1 = torch.nn.Conv2d(1, 64, kernel_size=(7, 7), stride=(2, 2), padding=(3, 3), bias=False)\n",
    "resnet18.fc = torch.nn.Linear(resnet18.fc.in_features, 10)\n",
    "\n",
    "# Charger les poids du modèle entraîné\n",
    "resnet18.load_state_dict(torch.load(\"models/CNN_DEFAULT_V1_FROM_SCRATCH_10E.pth\", map_location=device))\n",
    "\n",
    "# Mettre le modèle en mode évaluation\n",
    "resnet18.eval()\n",
    "\n",
    "# Calculer la précision finale sur le jeu de test\n",
    "acc = 0.\n",
    "\n",
    "with torch.inference_mode():\n",
    "    # on lit toutes les donnéees de test\n",
    "    for x,t in test_loader:\n",
    "      # on calcule la sortie du modèle\n",
    "      y = resnet18(x)\n",
    "      # on regarde si la sortie est correcte\n",
    "      acc += torch.argmax(y,1) == torch.argmax(t,1)\n",
    "    # on affiche le pourcentage de bonnes réponses\n",
    "    print(acc/data_test.shape[0])"
   ],
   "outputs": [
    {
     "name": "stdout",
     "output_type": "stream",
     "text": [
      "tensor([0.9924])\n"
     ]
    }
   ],
   "execution_count": 39
  }
 ],
 "metadata": {
  "colab": {
   "provenance": []
  },
  "kernelspec": {
   "display_name": "Python 3 (ipykernel)",
   "name": "python3",
   "language": "python"
  },
  "language_info": {
   "name": "python"
  }
 },
 "nbformat": 4,
 "nbformat_minor": 0
}
