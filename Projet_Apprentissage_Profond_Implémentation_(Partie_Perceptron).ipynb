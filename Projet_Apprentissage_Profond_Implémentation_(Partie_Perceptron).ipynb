{
 "nbformat": 4,
 "nbformat_minor": 0,
 "metadata": {
  "colab": {
   "provenance": []
  },
  "kernelspec": {
   "name": "python3",
   "display_name": "Python 3"
  },
  "language_info": {
   "name": "python"
  }
 },
 "cells": [
  {
   "cell_type": "markdown",
   "source": [
    "# Projet - Apprentissage Profond - Implémentation (Partie Perceptron)\n",
    "\n",
    "**EL KAAKOUR Ahmad & Matthieu RANDRIANTSOA**"
   ],
   "metadata": {
    "id": "bHjOZSOx-ov2"
   }
  },
  {
   "cell_type": "markdown",
   "source": [
    "> Ce notebook contient toutes les fonctions d'implémentation de la partie I. Il est conçu de sorte à s'exécuter sequentiellement."
   ],
   "metadata": {
    "id": "Q1U5FqyW-twP"
   }
  },
  {
   "cell_type": "code",
   "source": [
    "import gzip, numpy, torch\n",
    "import matplotlib.pyplot as plt\n",
    "from pathlib import Path\n",
    "import itertools\n",
    "import json\n",
    "import os\n",
    "import pandas as pd\n",
    "import seaborn as sns"
   ],
   "metadata": {
    "id": "XxET9Es7_HT3"
   },
   "execution_count": null,
   "outputs": []
  },
  {
   "cell_type": "markdown",
   "metadata": {
    "id": "3BZFQFsfqaMD"
   },
   "source": [
    "## Définition des hyperparamètres"
   ]
  },
  {
   "cell_type": "code",
   "execution_count": null,
   "metadata": {
    "ExecuteTime": {
     "end_time": "2024-09-16T21:15:50.272415Z",
     "start_time": "2024-09-16T21:15:50.264616Z"
    },
    "id": "ilDRnfNWqcwI"
   },
   "outputs": [],
   "source": [
    "batch_size = 5 # nombre de données lues à chaque fois\n",
    "nb_epochs = 10 # nombre de fois que la base de données sera lue\n",
    "eta = 0.00001 # taux d'apprentissage\n",
    "w_min = -0.001\n",
    "w_max = 0.001"
   ]
  },
  {
   "cell_type": "markdown",
   "metadata": {
    "id": "FayEbNOlpI2T"
   },
   "source": [
    "## Chargement des données"
   ]
  },
  {
   "cell_type": "code",
   "execution_count": null,
   "metadata": {
    "ExecuteTime": {
     "end_time": "2024-09-16T21:15:54.604773Z",
     "start_time": "2024-09-16T21:15:53.228364Z"
    },
    "id": "kz6BRjxbIaV-"
   },
   "outputs": [],
   "source": [
    "((data_train,label_train),(data_test,label_test)) = torch.load(gzip.open('data/mnist.pkl.gz'), weights_only=False)"
   ]
  },
  {
   "cell_type": "markdown",
   "metadata": {
    "id": "JZb3j-qLpbcB"
   },
   "source": [
    "## Analyse des dimensions des données importées"
   ]
  },
  {
   "cell_type": "code",
   "execution_count": null,
   "metadata": {
    "ExecuteTime": {
     "end_time": "2024-09-13T09:21:55.691756Z",
     "start_time": "2024-09-13T09:21:55.665926Z"
    },
    "id": "czPmYkuBNOyU",
    "outputId": "a2417ff4-3765-4055-ee02-7bdc6f11ce8f",
    "colab": {
     "base_uri": "https://localhost:8080/"
    }
   },
   "outputs": [
    {
     "output_type": "stream",
     "name": "stdout",
     "text": [
      "data_train shape: torch.Size([63000, 784])\n",
      "label_train shape: torch.Size([63000, 10])\n",
      "data_test shape: torch.Size([7000, 784])\n",
      "label_test shape: torch.Size([7000, 10])\n"
     ]
    }
   ],
   "source": [
    "print(f\"data_train shape: {data_train.shape}\")\n",
    "print(f\"label_train shape: {label_train.shape}\")\n",
    "print(f\"data_test shape: {data_test.shape}\")\n",
    "print(f\"label_test shape: {label_test.shape}\")"
   ]
  },
  {
   "cell_type": "markdown",
   "metadata": {
    "id": "6OJPz93Kqyhf"
   },
   "source": [
    "## Préparation des données"
   ]
  },
  {
   "cell_type": "code",
   "execution_count": null,
   "metadata": {
    "ExecuteTime": {
     "end_time": "2024-09-16T21:15:55.491111Z",
     "start_time": "2024-09-16T21:15:55.471604Z"
    },
    "id": "-jzPKy96q1Xz"
   },
   "outputs": [],
   "source": [
    "training_dataset = torch.utils.data.TensorDataset(data_train, label_train)\n",
    "test_dataset = torch.utils.data.TensorDataset(data_test, label_test)\n",
    "\n",
    "training_loader = torch.utils.data.DataLoader(training_dataset, batch_size=batch_size, shuffle=True)\n",
    "test_loader = torch.utils.data.DataLoader(test_dataset, batch_size=1, shuffle=True)"
   ]
  },
  {
   "cell_type": "markdown",
   "metadata": {
    "id": "DZ6R7hzkptGY"
   },
   "source": [
    "## Définition du modèle"
   ]
  },
  {
   "cell_type": "markdown",
   "metadata": {
    "id": "nLR4Mmg-RnVS"
   },
   "source": [
    "### Choix du type de modèle"
   ]
  },
  {
   "cell_type": "code",
   "execution_count": null,
   "metadata": {
    "ExecuteTime": {
     "end_time": "2024-09-13T09:22:03.362227Z",
     "start_time": "2024-09-13T09:22:03.344275Z"
    },
    "colab": {
     "base_uri": "https://localhost:8080/"
    },
    "id": "xI6sZ8I8I1Z8",
    "outputId": "40936303-89d6-49c8-fb94-7115fb44e721"
   },
   "outputs": [
    {
     "output_type": "execute_result",
     "data": {
      "text/plain": [
       "Parameter containing:\n",
       "tensor([[-3.7899e-04,  7.6127e-04, -8.7735e-04,  ...,  8.0522e-04,\n",
       "         -8.7891e-04, -1.3761e-04],\n",
       "        [ 5.8214e-04, -8.9656e-04, -2.2406e-04,  ..., -3.2075e-04,\n",
       "         -6.6475e-04, -4.3368e-07],\n",
       "        [-5.2841e-04,  2.2538e-05,  2.0944e-04,  ..., -7.9608e-04,\n",
       "         -1.2805e-04,  7.8641e-04],\n",
       "        ...,\n",
       "        [ 9.6606e-04, -6.3284e-04, -9.0118e-04,  ...,  2.0879e-04,\n",
       "          9.0254e-04, -3.6840e-04],\n",
       "        [ 3.6540e-04,  4.0142e-04,  5.1121e-04,  ...,  6.7428e-05,\n",
       "          6.7835e-05, -9.9374e-04],\n",
       "        [-7.0315e-04,  3.0334e-04,  7.4311e-05,  ...,  5.7517e-04,\n",
       "          3.4898e-05, -2.0953e-04]], requires_grad=True)"
      ]
     },
     "metadata": {},
     "execution_count": 12
    }
   ],
   "source": [
    "model = torch.nn.Linear(data_train.shape[1], label_train.shape[1]) # Création d'un neurone avec fonction d'activation linéaire\n",
    "torch.nn.init.uniform_(model.weight,w_min,w_max) # Initialisation des poids"
   ]
  },
  {
   "cell_type": "markdown",
   "metadata": {
    "id": "bNPcS7tjqI6j"
   },
   "source": [
    "### Définition de la fonction côut et d'optimisation"
   ]
  },
  {
   "cell_type": "code",
   "execution_count": null,
   "metadata": {
    "ExecuteTime": {
     "end_time": "2024-09-13T09:22:26.318694Z",
     "start_time": "2024-09-13T09:22:26.314413Z"
    },
    "id": "it-ib_iWJcPt"
   },
   "outputs": [],
   "source": [
    "loss_func = torch.nn.MSELoss(reduction='sum')\n",
    "optim = torch.optim.SGD(model.parameters(), lr = eta)"
   ]
  },
  {
   "cell_type": "markdown",
   "metadata": {
    "id": "SJ3Pd107rswl"
   },
   "source": [
    "## Apprentissage & Tests"
   ]
  },
  {
   "cell_type": "code",
   "execution_count": null,
   "metadata": {
    "ExecuteTime": {
     "end_time": "2024-09-13T09:23:25.883254Z",
     "start_time": "2024-09-13T09:22:29.667808Z"
    },
    "colab": {
     "base_uri": "https://localhost:8080/"
    },
    "id": "r8xRecJ_raQR",
    "outputId": "d2d6eabb-e04c-451f-a2b0-58a5b861a277"
   },
   "outputs": [
    {
     "output_type": "stream",
     "name": "stdout",
     "text": [
      "tensor([0.8254])\n",
      "tensor([0.8419])\n",
      "tensor([0.8474])\n",
      "tensor([0.8529])\n",
      "tensor([0.8537])\n",
      "tensor([0.8551])\n",
      "tensor([0.8547])\n",
      "tensor([0.8556])\n",
      "tensor([0.8546])\n",
      "tensor([0.8573])\n"
     ]
    }
   ],
   "source": [
    "test_loss_values = []\n",
    "for n in range(nb_epochs):\n",
    "    for x,t in training_loader:\n",
    "\n",
    "        y = model(x)\n",
    "\n",
    "        loss = loss_func(y, t) # Compare les prédictions y aux vraies valeurs t\n",
    "        loss.backward() # Calcul le gradient de la perte par rapport aux paramètres du modèles\n",
    "        optim.step() #\n",
    "        optim.zero_grad()\n",
    "\n",
    "    model.eval()\n",
    "\n",
    "    with torch.no_grad():\n",
    "\n",
    "        acc = 0.\n",
    "        # on lit toutes les donnéees de test\n",
    "        for x,t in test_loader:\n",
    "          # on calcule la sortie du modèle\n",
    "          y = model(x)\n",
    "          # on regarde si la sortie est correcte\n",
    "          acc += torch.argmax(y,1) == torch.argmax(t,1)\n",
    "        # on affiche le pourcentage de bonnes réponses\n",
    "        print(acc/data_test.shape[0])\n"
   ]
  },
  {
   "cell_type": "markdown",
   "metadata": {
    "id": "394e_v3RwCWP"
   },
   "source": [
    "## Test final"
   ]
  },
  {
   "cell_type": "code",
   "execution_count": null,
   "metadata": {
    "ExecuteTime": {
     "end_time": "2024-09-13T09:24:27.026466Z",
     "start_time": "2024-09-13T09:24:26.286286Z"
    },
    "colab": {
     "base_uri": "https://localhost:8080/"
    },
    "id": "Hu0J97jowBEV",
    "outputId": "068a608f-1628-4cad-89f9-c175c35e702d"
   },
   "outputs": [
    {
     "output_type": "stream",
     "name": "stdout",
     "text": [
      "tensor([0.8573])\n"
     ]
    }
   ],
   "source": [
    "acc = 0.\n",
    "# on lit toutes les donnéees de test\n",
    "for x,t in test_loader:\n",
    "  # on calcule la sortie du modèle\n",
    "  y = model(x)\n",
    "  # on regarde si la sortie est correcte\n",
    "  acc += torch.argmax(y,1) == torch.argmax(t,1)\n",
    "# on affiche le pourcentage de bonnes réponses\n",
    "print(acc/data_test.shape[0])"
   ]
  }
 ]
}
